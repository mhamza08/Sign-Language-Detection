{
 "cells": [
  {
   "cell_type": "code",
   "execution_count": 1,
   "id": "314c6769",
   "metadata": {},
   "outputs": [],
   "source": [
    "import cv2 \n",
    "import os\n",
    "import time\n",
    "import uuid"
   ]
  },
  {
   "cell_type": "code",
   "execution_count": 2,
   "id": "f3536fe7",
   "metadata": {},
   "outputs": [],
   "source": [
    "IMAGES_PATH = \"Tensorflow/workspace/images/collectedimages\""
   ]
  },
  {
   "cell_type": "code",
   "execution_count": 3,
   "id": "3a974caa",
   "metadata": {},
   "outputs": [],
   "source": [
    "lables = ['hello', 'i-need-help', 'yes', 'no', ' I-am-sick', 'fever','headache', 'you-have-covid', 'thank']\n",
    "number_imgs = 27"
   ]
  },
  {
   "cell_type": "code",
   "execution_count": 4,
   "id": "9db4af87",
   "metadata": {},
   "outputs": [
    {
     "name": "stdout",
     "output_type": "stream",
     "text": [
      "Collecting images for hello\n",
      "Collecting images for i-need-help\n",
      "Collecting images for yes\n",
      "Collecting images for no\n"
     ]
    },
    {
     "name": "stderr",
     "output_type": "stream",
     "text": [
      "A subdirectory or file Tensorflow\\workspace\\images\\collectedimages\\ already exists.\n",
      "Error occurred while processing: Tensorflow\\workspace\\images\\collectedimages\\.\n"
     ]
    },
    {
     "name": "stdout",
     "output_type": "stream",
     "text": [
      "Collecting images for  I-am-sick\n",
      "Collecting images for fever\n",
      "Collecting images for headache\n",
      "Collecting images for you-have-covid\n",
      "Collecting images for thank\n"
     ]
    }
   ],
   "source": [
    "for lable in lables:\n",
    "    !mkdir {'Tensorflow\\workspace\\images\\collectedimages\\\\'+lable}\n",
    "    cap = cv2.VideoCapture(0)\n",
    "    print('Collecting images for {}'.format(lable))\n",
    "    time.sleep(5)\n",
    "    for imgnum in range(number_imgs):\n",
    "        ret, frame = cap.read()\n",
    "        imagename = os.path.join(IMAGES_PATH, lable, lable+'.'+ '{}.jpg'.format(str(uuid.uuid1())))\n",
    "        cv2.imwrite(imagename, frame)\n",
    "        cv2.imshow('frame', frame)\n",
    "        time.sleep(2)\n",
    "        \n",
    "        if cv2.waitKey(1) & 0XFF == ord('q'):\n",
    "            break\n",
    "    cap.release()"
   ]
  },
  {
   "cell_type": "code",
   "execution_count": null,
   "id": "aacb2cb6",
   "metadata": {},
   "outputs": [],
   "source": []
  }
 ],
 "metadata": {
  "kernelspec": {
   "display_name": "Python 3 (ipykernel)",
   "language": "python",
   "name": "python3"
  },
  "language_info": {
   "codemirror_mode": {
    "name": "ipython",
    "version": 3
   },
   "file_extension": ".py",
   "mimetype": "text/x-python",
   "name": "python",
   "nbconvert_exporter": "python",
   "pygments_lexer": "ipython3",
   "version": "3.9.6"
  }
 },
 "nbformat": 4,
 "nbformat_minor": 5
}
